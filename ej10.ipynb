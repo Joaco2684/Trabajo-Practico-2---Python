{
 "cells": [
  {
   "cell_type": "markdown",
   "metadata": {},
   "source": [
    "# **EJERCICIO 10**"
   ]
  },
  {
   "cell_type": "markdown",
   "metadata": {},
   "source": [
    "## **Consigna:** \n",
    "Un club de hockey posee las estadísticas de todxs sus jugadorxs de la última temporada jugada del torneo de hockey mixto. Poseen una lista con los nombres, otra con los goles a favor, otra con los goles evitados y la última con las asistencias realizadas. El club está por otorgar los premios de cierre de temporada y necesita:"
   ]
  },
  {
   "cell_type": "code",
   "execution_count": 39,
   "metadata": {},
   "outputs": [],
   "source": [
    "names = \"\"\"Agustin, Yanina, Andrés, Ariadna, Bautista, CAROLINA, \n",
    "CESAR, David, Diego, Dolores, DYLAN, ELIANA, Emanuel, Fabián, Noelia,\n",
    "Francsica', FEDERICO, Fernanda, GONZALO, Nancy \"\"\"\n",
    "goals = [0, 10, 4, 0, 5, 14, 0, 0, 7, 2, 1, 1, 1, 5, 6, 1, 1, 2, 0,\n",
    "11]\n",
    "goals_avoided = [0, 2, 0, 0, 5, 2, 0, 0, 1, 2, 0, 5, 5, 0, 1, 0, 2,\n",
    "3, 0, 0]\n",
    "assists = [0, 5, 1, 0, 5, 2, 0, 0, 1, 2, 1, 5, 5, 0, 1, 0, 2, 3, 1,\n",
    "0]"
   ]
  },
  {
   "cell_type": "markdown",
   "metadata": {},
   "source": [
    " **Aclaración antes de empezar con los incisos:** *Se debe colocar la siguiente linea de código en el programa principal. Esta nos servirá para poder hacer uso de los módulos siguientes con el objetivo de resolver el problema dado.*"
   ]
  },
  {
   "cell_type": "code",
   "execution_count": 40,
   "metadata": {},
   "outputs": [],
   "source": [
    "import modulos"
   ]
  },
  {
   "cell_type": "markdown",
   "metadata": {},
   "source": [
    "## Inciso 1\n",
    "\n",
    "### Generar una estructura todas las estadísticas asociadas a cada jugador o jugadora:\n",
    "\n",
    "Recibo todos los datos de los jugadores que están almacenados en listas distintas (salvo \"names\" que con el método **.split()** lo convierto en una lista donde cada nodo es un nombre) y gracias a que las 4 estrucutras están ordenadas por jugador, puedo utilizar el metodo **zip()** que une todos los elementos de un mismo indice de todas las listas. Luego al resultado lo retorno como una tupla, por lo que el método **generate_structure** devuelve una tupla de tuplas con la información de cada jugador.\n",
    "\n"
   ]
  },
  {
   "cell_type": "code",
   "execution_count": 41,
   "metadata": {},
   "outputs": [],
   "source": [
    "def generate_structure(names,goals,goals_avoided,assists):\n",
    "    return tuple(zip(names.replace(\" \", \"\").replace(\"\\n\",\"\").split(\",\"),goals,goals_avoided,assists))"
   ]
  },
  {
   "cell_type": "markdown",
   "metadata": {},
   "source": [
    "## Inciso 2\n",
    "\n",
    "### Conocer el nombre y la cantidad de goles del goleador o goleadora:\n",
    "\n",
    "Recibo la estructura generada en el incisio anterior. En la variable **player_scorer** se almacena la tupla del jugador con el numero más alto de goles, esto se calcula con la función **max()** que recorre cada tupla de la estructura y compara el elemento en el **indice 1**(cantidad de goles). POr último, se retorna el nombre del jugador goleados y la cantidad de goles.\n"
   ]
  },
  {
   "cell_type": "code",
   "execution_count": 42,
   "metadata": {},
   "outputs": [],
   "source": [
    "def get_name_goals_scorer(stats):\n",
    "    player_scorer = max(stats, key=lambda x: x[1])\n",
    "    return player_scorer[0],player_scorer[1]"
   ]
  },
  {
   "cell_type": "markdown",
   "metadata": {},
   "source": [
    "## Inciso 3\n",
    "\n",
    "### Conocer el nombre del jugador o jugadora más influyente:\n",
    "\n",
    "La función **get_points** cuenta con un diccionario donde se alamacena el valor de cada acción. Luego este se utiliza para devolver el total de puntos conseguidos por el jugador en base a su estadistica.\n",
    "\n",
    "La funcion **get_name_influential** arma una lista donde cada nodo tiene **(nombre, cantPuntos)**, luego se calcula el nodo con mayor cantidad de puntos y se retorna solo el nombre de este."
   ]
  },
  {
   "cell_type": "code",
   "execution_count": 43,
   "metadata": {},
   "outputs": [],
   "source": [
    "def get_points(player):\n",
    "    values = {'goals': 1.5, 'avoided': 1.25, 'assist': 1}\n",
    "    return player[0], player[1] * values['goals'] + player[2] * values['avoided'] + player[3] * values['assist']\n",
    "    \n",
    "def get_name_influential(stats):\n",
    "    points = map(get_points,stats)\n",
    "    player_max_points = max(points, key=lambda x:x[1])\n",
    "    return player_max_points[0]"
   ]
  },
  {
   "cell_type": "markdown",
   "metadata": {},
   "source": [
    "## Inciso 4\n",
    "\n",
    "### Conocer el promedio de goles por partido del equipo en general. Dato: Se jugaron 25 partidos en la temporada.\n",
    "\n",
    "Recibe la lista inicial con todos los goles del equipo, los suma y luego divide por 25(total de partidos jugados) para retornar el promedio de goles."
   ]
  },
  {
   "cell_type": "code",
   "execution_count": 44,
   "metadata": {},
   "outputs": [],
   "source": [
    "def get_prom_goals(goals):\n",
    "    return sum(goals) / 25"
   ]
  },
  {
   "cell_type": "markdown",
   "metadata": {},
   "source": [
    "## Inciso 4\n",
    "\n",
    "### Conocer el promedio de goles por partido del goleador o goleadora. Dato: Se jugaron 25 partidos en la temporada.\n",
    "\n",
    "Este Inciso está pensado para resolverlo directamente en el programa principal. Se utiliza la cantidad de goles anotados por el goleador(calculado en el **inciso 2**) y se divide por 25 (cantidad de partidos) para sacar el promedio."
   ]
  },
  {
   "cell_type": "code",
   "execution_count": 45,
   "metadata": {},
   "outputs": [],
   "source": [
    "prom_goals_scorer = goals_scorer / 25"
   ]
  },
  {
   "cell_type": "markdown",
   "metadata": {},
   "source": [
    "## **PROGRAMA PRINCIPAL:**"
   ]
  },
  {
   "cell_type": "code",
   "execution_count": 46,
   "metadata": {},
   "outputs": [
    {
     "name": "stdout",
     "output_type": "stream",
     "text": [
      "Nombre del goleador:  i\n",
      "Cantidad de goles del goleador:  14\n",
      "Nombre jugador más influyente:  i\n",
      "Promedio de goles por partido del equipo:  2.84\n",
      "Promedio de goles de  i  (goleador/a):  0.56\n"
     ]
    }
   ],
   "source": [
    "import modulos\n",
    "\n",
    "names = \"\"\"Agustin, Yanina, Andrés, Ariadna, Bautista, CAROLINA, \n",
    "CESAR, David, Diego, Dolores, DYLAN, ELIANA, Emanuel, Fabián, Noelia,\n",
    "Francsica', FEDERICO, Fernanda, GONZALO, Nancy \"\"\"\n",
    "goals = [0, 10, 4, 0, 5, 14, 0, 0, 7, 2, 1, 1, 1, 5, 6, 1, 1, 2, 0,\n",
    "11]\n",
    "goals_avoided = [0, 2, 0, 0, 5, 2, 0, 0, 1, 2, 0, 5, 5, 0, 1, 0, 2,\n",
    "3, 0, 0]\n",
    "assists = [0, 5, 1, 0, 5, 2, 0, 0, 1, 2, 1, 5, 5, 0, 1, 0, 2, 3, 1,\n",
    "0]\n",
    "\n",
    "stats = modulos.generate_structure(names,goals,goals_avoided,assists)\n",
    "\n",
    "name_scorer, goals_scorer = modulos.get_name_goals_scorer(stats)\n",
    "print(\"Nombre del goleador: \",name_scorer)\n",
    "print(\"Cantidad de goles del goleador: \",goals_scorer)\n",
    "\n",
    "name_influential = modulos.get_name_influential(stats)\n",
    "print(\"Nombre jugador más influyente: \",name_influential)\n",
    "\n",
    "prom_goals_team = modulos.get_prom_goals(goals)\n",
    "print(\"Promedio de goles por partido del equipo: \",prom_goals_team)\n",
    "\n",
    "prom_goals_scorer = goals_scorer / 25\n",
    "print(\"Promedio de goles de \", name_scorer, \" (goleador/a): \",prom_goals_scorer)"
   ]
  }
 ],
 "metadata": {
  "kernelspec": {
   "display_name": "Python 3",
   "language": "python",
   "name": "python3"
  },
  "language_info": {
   "codemirror_mode": {
    "name": "ipython",
    "version": 3
   },
   "file_extension": ".py",
   "mimetype": "text/x-python",
   "name": "python",
   "nbconvert_exporter": "python",
   "pygments_lexer": "ipython3",
   "version": "3.11.8"
  },
  "orig_nbformat": 4
 },
 "nbformat": 4,
 "nbformat_minor": 2
}
